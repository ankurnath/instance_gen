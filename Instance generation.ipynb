{
 "cells": [
  {
   "cell_type": "code",
   "execution_count": 14,
   "metadata": {},
   "outputs": [],
   "source": [
    "import cnfgen\n",
    "import networkx as nx\n",
    "import numpy as np\n",
    "from pysat.solvers import Solver\n",
    "import os\n",
    "from scipy.sparse import csr_matrix,save_npz,load_npz\n",
    "from multiprocessing.pool import Pool"
   ]
  },
  {
   "cell_type": "code",
   "execution_count": 15,
   "metadata": {},
   "outputs": [],
   "source": [
    "save_folder='../data_color'\n",
    "\n",
    "train_folder=os.path.join(save_folder,'training')\n",
    "test_folder=os.path.join(save_folder,'testing')\n",
    "val_folder=os.path.join(save_folder,'validation')\n",
    "\n",
    "os.makedirs(train_folder, exist_ok=True)\n",
    "os.makedirs(test_folder, exist_ok=True)\n",
    "os.makedirs(val_folder, exist_ok=True)\n",
    "\n",
    "\n",
    "\n",
    "def generate_hard_3_col_instances(n,filename):\n",
    "\n",
    "    G=nx.Graph()\n",
    "    u,v = np.random.randint(0, n, 2)\n",
    "    satisfiable=True\n",
    "    while satisfiable:\n",
    "        u,v = np.random.randint(0, n, 2)\n",
    "        if u==v:\n",
    "            continue\n",
    "        else:\n",
    "            G.add_edge(u, v)\n",
    "            formula=cnfgen.GraphColoringFormula(G,colors)\n",
    "            s = Solver(bootstrap_with=formula.clauses())\n",
    "            satisfiable=s.solve()\n",
    "            if not satisfiable:\n",
    "                G.remove_edge(u,v)\n",
    "\n",
    "    G=nx.to_numpy_array(G)\n",
    "    sparse_matrix = csr_matrix(graph)\n",
    "    save_npz(save_file_path, sparse_matrix)\n",
    "\n",
    "\n",
    "\n",
    "for n in [50,100,150,200,300,400]:\n",
    "\n",
    "    # num_train=4000\n",
    "    num_train=10\n",
    "    num_test=50\n",
    "    num_val=100\n",
    "\n",
    "    train_arguments=[]\n",
    "    for i in range(num_train):\n",
    "        train_arguments.append((n,os.path.join(train_folder,\n",
    "                                f'3col_{n}vertices_{str(i).zfill(4)}.npz')))\n",
    "\n",
    "    with Pool() as pool:\n",
    "        pool.starmap(generate_hard_3_col_instances,train_arguments)\n",
    "    break\n",
    "        "
   ]
  },
  {
   "cell_type": "code",
   "execution_count": 3,
   "metadata": {},
   "outputs": [
    {
     "data": {
      "text/plain": [
       "441"
      ]
     },
     "execution_count": 3,
     "metadata": {},
     "output_type": "execute_result"
    }
   ],
   "source": [
    "G.number_of_edges()"
   ]
  },
  {
   "cell_type": "code",
   "execution_count": 17,
   "metadata": {},
   "outputs": [
    {
     "data": {
      "text/plain": [
       "True"
      ]
     },
     "execution_count": 17,
     "metadata": {},
     "output_type": "execute_result"
    }
   ],
   "source": [
    "satisfiable"
   ]
  }
 ],
 "metadata": {
  "kernelspec": {
   "display_name": "base",
   "language": "python",
   "name": "python3"
  },
  "language_info": {
   "codemirror_mode": {
    "name": "ipython",
    "version": 3
   },
   "file_extension": ".py",
   "mimetype": "text/x-python",
   "name": "python",
   "nbconvert_exporter": "python",
   "pygments_lexer": "ipython3",
   "version": "3.11.5"
  }
 },
 "nbformat": 4,
 "nbformat_minor": 2
}
